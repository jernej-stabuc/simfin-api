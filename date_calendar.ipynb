{
 "cells": [
  {
   "cell_type": "code",
   "execution_count": 1,
   "metadata": {},
   "outputs": [],
   "source": [
    "import pandas as pd"
   ]
  },
  {
   "cell_type": "code",
   "execution_count": 6,
   "metadata": {},
   "outputs": [],
   "source": [
    "#create date table\n",
    "def create_dim_date(start_date, end_date):\n",
    "    '''\n",
    "    Create Dimension Date in Pandas\n",
    "    \n",
    "    :return df_date : DataFrame\n",
    "    '''\n",
    "    from pandas.tseries.offsets import MonthEnd, QuarterEnd, Week\n",
    "\n",
    "    # Construct DIM Date Dataframe\n",
    "    df_date = pd.DataFrame({\"Date\": pd.date_range(start=f'{start_date}', end=f'{end_date}', freq='D')})\n",
    "\n",
    "    def get_end_of_month(pd_date):\n",
    "        if pd_date.is_month_end == True:\n",
    "            return pd_date\n",
    "        else:\n",
    "            return pd_date + MonthEnd(1)\n",
    "\n",
    "    def get_end_of_quarter(pd_date):\n",
    "        if pd_date.is_quarter_end == True:\n",
    "            return pd_date\n",
    "        else:\n",
    "            return pd_date + QuarterEnd(1)\n",
    "\n",
    "    # Add in attributes\n",
    "    df_date[\"Day\"] = df_date.Date.dt.day\n",
    "    df_date[\"Month\"] = df_date.Date.dt.month\n",
    "    df_date[\"Quarter\"] = df_date.Date.dt.quarter\n",
    "    df_date[\"Year\"] = df_date.Date.dt.year\n",
    "    df_date[\"Fiscal_Year\"] = df_date['Date'].dt.to_period('A-JUN')\n",
    "    df_date['EndOfMonth'] = df_date['Date'].apply(get_end_of_month)\n",
    "    df_date['EndOfQuarter'] = df_date['Date'].apply(get_end_of_quarter)\n",
    "\n",
    "    return df_date"
   ]
  },
  {
   "cell_type": "code",
   "execution_count": null,
   "metadata": {},
   "outputs": [],
   "source": [
    "date_table = create_dim_date('31/10/2016', '22/6/2022')"
   ]
  },
  {
   "cell_type": "code",
   "execution_count": 8,
   "metadata": {},
   "outputs": [],
   "source": [
    "#save to csv\n",
    "date_table.to_csv('csv/date.csv', index=True, sep=';', encoding='utf-8')"
   ]
  }
 ],
 "metadata": {
  "kernelspec": {
   "display_name": "Python 3.10.6 64-bit",
   "language": "python",
   "name": "python3"
  },
  "language_info": {
   "codemirror_mode": {
    "name": "ipython",
    "version": 3
   },
   "file_extension": ".py",
   "mimetype": "text/x-python",
   "name": "python",
   "nbconvert_exporter": "python",
   "pygments_lexer": "ipython3",
   "version": "3.10.6"
  },
  "orig_nbformat": 4,
  "vscode": {
   "interpreter": {
    "hash": "52634da84371cba311ea128a5ea7cdc41ff074b781779e754b270ff9f8153cee"
   }
  }
 },
 "nbformat": 4,
 "nbformat_minor": 2
}
