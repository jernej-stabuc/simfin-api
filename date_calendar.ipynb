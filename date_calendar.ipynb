{
 "cells": [
  {
   "cell_type": "code",
   "execution_count": 1,
   "metadata": {},
   "outputs": [],
   "source": [
    "import pandas as pd"
   ]
  },
  {
   "cell_type": "code",
   "execution_count": 6,
   "metadata": {},
   "outputs": [],
   "source": [
    "#create date table\n",
    "def create_dim_date(start_date, end_date):\n",
    "    '''\n",
    "    Create Dimension Date in Pandas\n",
    "    \n",
    "    :return df_date : DataFrame\n",
    "    '''\n",
    "    from pandas.tseries.offsets import MonthEnd, QuarterEnd, Week\n",
    "\n",
    "    # Construct DIM Date Dataframe\n",
    "    df_date = pd.DataFrame({\"Date\": pd.date_range(start=f'{start_date}', end=f'{end_date}', freq='D')})\n",
    "\n",
    "    def get_end_of_month(pd_date):\n",
    "        if pd_date.is_month_end == True:\n",
    "            return pd_date\n",
    "        else:\n",
    "            return pd_date + MonthEnd(1)\n",
    "\n",
    "    def get_end_of_quarter(pd_date):\n",
    "        if pd_date.is_quarter_end == True:\n",
    "            return pd_date\n",
    "        else:\n",
    "            return pd_date + QuarterEnd(1)\n",
    "\n",
    "    # Add in attributes\n",
    "    df_date[\"Day\"] = df_date.Date.dt.day\n",
    "    df_date[\"Month\"] = df_date.Date.dt.month\n",
    "    df_date[\"Quarter\"] = df_date.Date.dt.quarter\n",
    "    df_date[\"Year\"] = df_date.Date.dt.year\n",
    "    df_date[\"Fiscal_Year\"] = df_date['Date'].dt.to_period('A-JUN')\n",
    "    df_date['EndOfMonth'] = df_date['Date'].apply(get_end_of_month)\n",
    "    df_date['EndOfQuarter'] = df_date['Date'].apply(get_end_of_quarter)\n",
    "\n",
    "    return df_date"
   ]
  },
  {
   "cell_type": "code",
   "execution_count": 7,
   "metadata": {},
   "outputs": [
    {
     "name": "stderr",
     "output_type": "stream",
     "text": [
      "C:\\Users\\Jernej\\AppData\\Local\\Temp\\ipykernel_1900\\2752352859.py:10: UserWarning: Parsing dates in DD/MM/YYYY format when dayfirst=False (the default) was specified. This may lead to inconsistently parsed dates! Specify a format to ensure consistent parsing.\n",
      "  df_date = pd.DataFrame({\"Date\": pd.date_range(start=f'{start_date}', end=f'{end_date}', freq='D')})\n"
     ]
    },
    {
     "data": {
      "text/html": [
       "<div>\n",
       "<style scoped>\n",
       "    .dataframe tbody tr th:only-of-type {\n",
       "        vertical-align: middle;\n",
       "    }\n",
       "\n",
       "    .dataframe tbody tr th {\n",
       "        vertical-align: top;\n",
       "    }\n",
       "\n",
       "    .dataframe thead th {\n",
       "        text-align: right;\n",
       "    }\n",
       "</style>\n",
       "<table border=\"1\" class=\"dataframe\">\n",
       "  <thead>\n",
       "    <tr style=\"text-align: right;\">\n",
       "      <th></th>\n",
       "      <th>Date</th>\n",
       "      <th>Day</th>\n",
       "      <th>Month</th>\n",
       "      <th>Quarter</th>\n",
       "      <th>Year</th>\n",
       "      <th>Fiscal_Year</th>\n",
       "      <th>EndOfMonth</th>\n",
       "      <th>EndOfQuarter</th>\n",
       "    </tr>\n",
       "  </thead>\n",
       "  <tbody>\n",
       "    <tr>\n",
       "      <th>0</th>\n",
       "      <td>2016-10-31</td>\n",
       "      <td>31</td>\n",
       "      <td>10</td>\n",
       "      <td>4</td>\n",
       "      <td>2016</td>\n",
       "      <td>2017</td>\n",
       "      <td>2016-10-31</td>\n",
       "      <td>2016-12-31</td>\n",
       "    </tr>\n",
       "    <tr>\n",
       "      <th>1</th>\n",
       "      <td>2016-11-01</td>\n",
       "      <td>1</td>\n",
       "      <td>11</td>\n",
       "      <td>4</td>\n",
       "      <td>2016</td>\n",
       "      <td>2017</td>\n",
       "      <td>2016-11-30</td>\n",
       "      <td>2016-12-31</td>\n",
       "    </tr>\n",
       "    <tr>\n",
       "      <th>2</th>\n",
       "      <td>2016-11-02</td>\n",
       "      <td>2</td>\n",
       "      <td>11</td>\n",
       "      <td>4</td>\n",
       "      <td>2016</td>\n",
       "      <td>2017</td>\n",
       "      <td>2016-11-30</td>\n",
       "      <td>2016-12-31</td>\n",
       "    </tr>\n",
       "    <tr>\n",
       "      <th>3</th>\n",
       "      <td>2016-11-03</td>\n",
       "      <td>3</td>\n",
       "      <td>11</td>\n",
       "      <td>4</td>\n",
       "      <td>2016</td>\n",
       "      <td>2017</td>\n",
       "      <td>2016-11-30</td>\n",
       "      <td>2016-12-31</td>\n",
       "    </tr>\n",
       "    <tr>\n",
       "      <th>4</th>\n",
       "      <td>2016-11-04</td>\n",
       "      <td>4</td>\n",
       "      <td>11</td>\n",
       "      <td>4</td>\n",
       "      <td>2016</td>\n",
       "      <td>2017</td>\n",
       "      <td>2016-11-30</td>\n",
       "      <td>2016-12-31</td>\n",
       "    </tr>\n",
       "  </tbody>\n",
       "</table>\n",
       "</div>"
      ],
      "text/plain": [
       "        Date  Day  Month  Quarter  Year Fiscal_Year EndOfMonth EndOfQuarter\n",
       "0 2016-10-31   31     10        4  2016        2017 2016-10-31   2016-12-31\n",
       "1 2016-11-01    1     11        4  2016        2017 2016-11-30   2016-12-31\n",
       "2 2016-11-02    2     11        4  2016        2017 2016-11-30   2016-12-31\n",
       "3 2016-11-03    3     11        4  2016        2017 2016-11-30   2016-12-31\n",
       "4 2016-11-04    4     11        4  2016        2017 2016-11-30   2016-12-31"
      ]
     },
     "execution_count": 7,
     "metadata": {},
     "output_type": "execute_result"
    }
   ],
   "source": [
    "date_table = create_dim_date('31/10/2016', '22/6/2022')"
   ]
  },
  {
   "cell_type": "code",
   "execution_count": 8,
   "metadata": {},
   "outputs": [],
   "source": [
    "#save to csv\n",
    "date_table.to_csv('csv/date.csv', index=True, sep=';', encoding='utf-8')"
   ]
  }
 ],
 "metadata": {
  "kernelspec": {
   "display_name": "Python 3.10.6 64-bit",
   "language": "python",
   "name": "python3"
  },
  "language_info": {
   "codemirror_mode": {
    "name": "ipython",
    "version": 3
   },
   "file_extension": ".py",
   "mimetype": "text/x-python",
   "name": "python",
   "nbconvert_exporter": "python",
   "pygments_lexer": "ipython3",
   "version": "3.10.6"
  },
  "orig_nbformat": 4,
  "vscode": {
   "interpreter": {
    "hash": "52634da84371cba311ea128a5ea7cdc41ff074b781779e754b270ff9f8153cee"
   }
  }
 },
 "nbformat": 4,
 "nbformat_minor": 2
}
